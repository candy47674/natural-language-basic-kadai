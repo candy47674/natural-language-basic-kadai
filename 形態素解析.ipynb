{
  "nbformat": 4,
  "nbformat_minor": 0,
  "metadata": {
    "colab": {
      "provenance": [],
      "authorship_tag": "ABX9TyM6xfyGk7yA93a7oP331A29",
      "include_colab_link": true
    },
    "kernelspec": {
      "name": "python3",
      "display_name": "Python 3"
    },
    "language_info": {
      "name": "python"
    }
  },
  "cells": [
    {
      "cell_type": "markdown",
      "metadata": {
        "id": "view-in-github",
        "colab_type": "text"
      },
      "source": [
        "<a href=\"https://colab.research.google.com/github/candy47674/natural-language-basic-kadai/blob/main/%E5%BD%A2%E6%85%8B%E7%B4%A0%E8%A7%A3%E6%9E%90.ipynb\" target=\"_parent\"><img src=\"https://colab.research.google.com/assets/colab-badge.svg\" alt=\"Open In Colab\"/></a>"
      ]
    },
    {
      "cell_type": "code",
      "execution_count": 7,
      "metadata": {
        "colab": {
          "base_uri": "https://localhost:8080/"
        },
        "id": "I1GEDewJWTg-",
        "outputId": "0e46bc77-a663-41aa-bbd1-3251cc52f102"
      },
      "outputs": [
        {
          "output_type": "stream",
          "name": "stdout",
          "text": [
            "Requirement already satisfied: mecab-python3 in /usr/local/lib/python3.10/dist-packages (1.0.9)\n",
            "Requirement already satisfied: unidic-lite in /usr/local/lib/python3.10/dist-packages (1.0.8)\n",
            "Requirement already satisfied: bs4 in /usr/local/lib/python3.10/dist-packages (0.0.2)\n",
            "Requirement already satisfied: beautifulsoup4 in /usr/local/lib/python3.10/dist-packages (from bs4) (4.12.3)\n",
            "Requirement already satisfied: soupsieve>1.2 in /usr/local/lib/python3.10/dist-packages (from beautifulsoup4->bs4) (2.6)\n"
          ]
        }
      ],
      "source": [
        "!pip install mecab-python3\n",
        "!pip install unidic-lite\n",
        "!pip install bs4\n",
        "import re\n",
        "import MeCab\n"
      ]
    },
    {
      "cell_type": "code",
      "source": [
        "text4 = MeCab.Tagger()\n",
        "\n",
        "text = '''自然言語処理（しぜんげんごしょり、英語: natural language processing、略称：NLP）は、\n",
        "人間が日常的に使っている自然言語をコンピュータに処理させる一連の技術であり、人工知能と言語学の\n",
        "一分野である。「計算言語学」（computational linguistics）との類似もあるが、自然言語処理は工学的\n",
        "な視点からの言語処理をさすのに対して、計算言語学は言語学的視点を重視する手法をさす事が多い[1]。\n",
        "データベース内の情報を自然言語に変換したり、自然言語の文章をより形式的な（コンピュータが理解し\n",
        "やすい）表現に変換するといった処理が含まれる。応用例としては予測変換、IMEなどの文字変換が挙げら\n",
        "れる。自然言語の理解をコンピュータにさせることは、自然言語理解とされている。自然言語理解と、自\n",
        "然言語処理の差は、意味を扱うか、扱わないかという説もあったが、最近は数理的な言語解析手法（統計\n",
        "や確率など）が広められた為、パーサ（統語解析器）などの精度や速度が一段と上がり、その意味合いは\n",
        "違ってきている。もともと自然言語の意味論的側面を全く無視して達成できることは非常に限られている。\n",
        "このため、自然言語処理には形態素解析と構文解析、文脈解析、意味解析などをSyntaxなど表層的な観点\n",
        "から解析をする学問であるが、自然言語理解は、意味をどのように理解するかという個々人の理解と推論\n",
        "部分が主な研究の課題になってきており、両者の境界は意思や意図が含まれるかどうかになってきている。'''\n",
        "\n",
        "node = text4.parseToNode(text)\n",
        "print(node)\n",
        "vocab_list = []\n",
        "while node:\n",
        "  word = node.surface\n",
        "  hinshi = word.split(\",\")[0]\n",
        "  if hinshi ==\"名詞\":\n",
        "    if (not word.isnumeric())and(not re.match(r'^[\\u3040-\\u309F]+$',word)):\n",
        "      # 名詞が数値isnumericとひらがなのみの場合は除き、それ以外の名詞を保存\n",
        "      vocab_list.append(word)\n",
        "\n",
        "  else:\n",
        "    pass\n",
        "  node=node.next\n",
        "print(vocab_list)\n",
        "# from sklearn.feature_extraction.text import TfidfVectorizer\n",
        "# #tfidfモデルの作成と学習\n",
        "# tfidf_model= TfidfVectorizer(token_pattern='(?u)\\\\b\\\\w+\\\\b',norm = None)\n",
        "# tfidf_model.fit(vocab_list)\n",
        "# #対象のテキストをtf-idf値に変換\n",
        "# vocab_text =\"\".join(vocab_list)\n",
        "# tfidf_vec = tfidf_model.transform([vocab_text]).toarray()[0]\n",
        "# #単語：tf-idf値となるdictに変換\n",
        "# tfidf_dict = dict(zip(tfidf_model.get_feature_names_out(),tfidf_vec))\n",
        "# # tf-idf値が正のみの単語を残す\n",
        "# tfidf_dict = {word: num_val for word, num_val in tfidf_dict.items() if num_val > 0}\n",
        "# tfidf_dict\n",
        "\n"
      ],
      "metadata": {
        "colab": {
          "base_uri": "https://localhost:8080/"
        },
        "id": "EyDe2OiaWUTR",
        "outputId": "bd1d20f4-093b-4ec4-e221-2005bf7952de"
      },
      "execution_count": 6,
      "outputs": [
        {
          "output_type": "stream",
          "name": "stdout",
          "text": [
            "<Swig Object of type 'MeCab::Node *' at 0x7b4b5035c2b0>\n",
            "[]\n"
          ]
        }
      ]
    }
  ]
}